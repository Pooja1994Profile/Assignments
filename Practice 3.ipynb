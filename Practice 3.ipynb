{
 "cells": [
  {
   "cell_type": "code",
   "execution_count": 10,
   "metadata": {},
   "outputs": [
    {
     "name": "stdout",
     "output_type": "stream",
     "text": [
      "Guj 350\n",
      "MP 450\n",
      "Puj 807\n",
      "UP 200\n",
      "odissa 304\n"
     ]
    }
   ],
   "source": [
    "# write a program to sort a dictionary by key.\n",
    "dict1={\"UP\":200,\"odissa\":304,\"MP\":450,\"Guj\":350,\"Puj\":807}\n",
    "for keys in sorted(dict1):\n",
    "    print(keys,dict1[keys])"
   ]
  },
  {
   "cell_type": "code",
   "execution_count": 15,
   "metadata": {},
   "outputs": [
    {
     "data": {
      "text/plain": [
       "{'a': 'Apple', 'b': 'mango', 'c': 'grape'}"
      ]
     },
     "execution_count": 15,
     "metadata": {},
     "output_type": "execute_result"
    }
   ],
   "source": [
    "#Write a Python program to get a dictionary from an object's fields.\n",
    "class Obct_fld(object):\n",
    "    def __init__(self):\n",
    "        self.a=\"Apple\"\n",
    "        self.b=\"mango\"\n",
    "        self.c=\"grape\"\n",
    "obj1=Obct_fld()\n",
    "obj1.__dict__"
   ]
  },
  {
   "cell_type": "code",
   "execution_count": 51,
   "metadata": {},
   "outputs": [
    {
     "data": {
      "text/plain": [
       "{'UP': 200, 'odissa': 304, 'Puj': 807, 'MP': 450, 'Guj': 350}"
      ]
     },
     "execution_count": 51,
     "metadata": {},
     "output_type": "execute_result"
    }
   ],
   "source": [
    "# write a program to remove duplicates from Dictionary.\n",
    "d1={\"UP\":200,\"odissa\":304,\"Puj\":807,\"UP\":200,\"MP\":450,\"Guj\":350,\"Puj\":807}\n",
    "result={}\n",
    "for k,v in d1.items():\n",
    "    if v not in result.values():\n",
    "        result[k]=v\n",
    "result"
   ]
  },
  {
   "cell_type": "code",
   "execution_count": 20,
   "metadata": {},
   "outputs": [
    {
     "data": {
      "text/plain": [
       "Counter({'UP': 1000,\n",
       "         'odissa': 608,\n",
       "         'MP': 450,\n",
       "         'Guj': 1300,\n",
       "         'Puj': 807,\n",
       "         'JK': 450,\n",
       "         'Bhr': 307})"
      ]
     },
     "execution_count": 20,
     "metadata": {},
     "output_type": "execute_result"
    }
   ],
   "source": [
    "# write a program to combine two dictionary adding values for common keys\n",
    "from collections import Counter\n",
    "d1={\"UP\":200,\"odissa\":304,\"MP\":450,\"Guj\":350,\"Puj\":807}\n",
    "d2={\"UP\":800,\"odissa\":304,\"JK\":450,\"Guj\":950,\"Bhr\":307}\n",
    "d=Counter(d1)+Counter(d2)\n",
    "d"
   ]
  },
  {
   "cell_type": "code",
   "execution_count": 47,
   "metadata": {},
   "outputs": [
    {
     "data": {
      "text/plain": [
       "{304, 307, 450, 800, 950}"
      ]
     },
     "execution_count": 47,
     "metadata": {},
     "output_type": "execute_result"
    }
   ],
   "source": [
    "# write a program to print all unique values from a dictionary in a list\n",
    "d2={\"UP\":800,\"odissa\":304,\"JK\":450,\"Guj\":950,\"Bhr\":307}\n",
    "S_val=set(i for i in d2.values())\n",
    "S_val"
   ]
  },
  {
   "cell_type": "code",
   "execution_count": null,
   "metadata": {},
   "outputs": [],
   "source": []
  },
  {
   "cell_type": "code",
   "execution_count": null,
   "metadata": {},
   "outputs": [],
   "source": []
  }
 ],
 "metadata": {
  "kernelspec": {
   "display_name": "Python 3",
   "language": "python",
   "name": "python3"
  },
  "language_info": {
   "codemirror_mode": {
    "name": "ipython",
    "version": 3
   },
   "file_extension": ".py",
   "mimetype": "text/x-python",
   "name": "python",
   "nbconvert_exporter": "python",
   "pygments_lexer": "ipython3",
   "version": "3.8.3"
  }
 },
 "nbformat": 4,
 "nbformat_minor": 4
}
