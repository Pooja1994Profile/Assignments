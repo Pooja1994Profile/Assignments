{
 "cells": [
  {
   "cell_type": "code",
   "execution_count": 18,
   "metadata": {},
   "outputs": [
    {
     "data": {
      "text/plain": [
       "24"
      ]
     },
     "execution_count": 18,
     "metadata": {},
     "output_type": "execute_result"
    }
   ],
   "source": [
    "\"\"\"1.1 Write a Python Program to implement your own myreduce() function which works exactly like Python's built-in function\n",
    "reduce()\"\"\"\n",
    "a=lambda x,y:x*y\n",
    "\n",
    "def myreduce(fun,lst):\n",
    "    n=2\n",
    "    f=lst[0]\n",
    "    s=lst[1]\n",
    "    while n<=len(lst):\n",
    "        f=a(f,s)\n",
    "        if n!=len(lst):\n",
    "            s=lst[n]\n",
    "        n+=1  \n",
    "    return f\n",
    "\n",
    "myreduce(a,[1,2,3,4])"
   ]
  },
  {
   "cell_type": "code",
   "execution_count": 24,
   "metadata": {},
   "outputs": [
    {
     "data": {
      "text/plain": [
       "[2, 4, 6, 8]"
      ]
     },
     "execution_count": 24,
     "metadata": {},
     "output_type": "execute_result"
    }
   ],
   "source": [
    "\"\"\"1.2 Write a Python program to implement your own myfilter() function which works exactly\n",
    "like Python's built-in function filter()\"\"\"\n",
    "prime=lambda x:True if x%2==0 else False\n",
    "\n",
    "def myfilter(func,lst):\n",
    "    return [i for i in lst if func(i)==True]\n",
    "\n",
    "myfilter(prime,[1,2,3,4,5,6,7,8])"
   ]
  },
  {
   "cell_type": "code",
   "execution_count": 79,
   "metadata": {},
   "outputs": [
    {
     "name": "stdout",
     "output_type": "stream",
     "text": [
      "[['A', 'C', 'A', 'D', 'G', 'I', 'L', 'D']] \n",
      " ['x', 'xx', 'xxx', 'xxxx', 'y', 'yy', 'yyy', 'yyyy', 'z', 'zz', 'zzz', 'zzzz'] \n",
      " ['x', 'y', 'z', 'xx', 'yy', 'zz', 'xxx', 'yyy', 'zzz', 'xxxx', 'yyyy', 'zzzz'] \n",
      " [[2], [3], [4], [3], [4], [5], [4], [5], [6]] \n",
      " [[2, 3, 4, 5], [3, 4, 5, 6], [4, 5, 6, 7], [5, 6, 7, 8]] \n",
      " [(1, 1), (2, 1), (3, 1), (1, 2), (2, 2), (3, 2), (1, 3), (2, 3), (3, 3)]\n"
     ]
    }
   ],
   "source": [
    "\"\"\"2. Implement List comprehensions to produce the following lists. Write List comprehensions to produce the following Lists\"\"\"\n",
    "#['A', 'C', 'A', 'D', 'G', 'I', ’L’, ‘ D’]\n",
    "#['x', 'xx', 'xxx', 'xxxx', 'y', 'yy', 'yyy', 'yyyy', 'z', 'zz', 'zzz', 'zzzz']\n",
    "#['x', 'y', 'z', 'xx', 'yy', 'zz', 'xxx', 'yyy', 'zzz', 'xxxx', 'yyyy', 'zzzz']\n",
    "#[[2], [3], [4], [3], [4], [5], [4], [5], [6]] \n",
    "#[[2, 3, 4, 5], [3, 4, 5, 6],[4, 5, 6, 7], [5, 6, 7, 8]]\n",
    "#[(1, 1), (2, 1), (3, 1), (1, 2), (2, 2), (3, 2), (1, 3), (2, 3), (3, 3)]\n",
    "list1=[[i for i in 'ACADGILD']]\n",
    "list2=[i*j for i in \"xyz\" for j in range(1,5)]\n",
    "list3=[i*j for i in range(1,5) for j in \"xyz\"]\n",
    "list4=[[i+j] for i in range(3) for j in range(2,5)]\n",
    "list5=[[i+j for j in range(2,6)] for i in range(4)]\n",
    "list6=[(j,i) for i in range(1,4) for j in range(1,4)]\n",
    "print(list1,\"\\n\",list2,\"\\n\",list3,\"\\n\",list4,\"\\n\",list5,\"\\n\",list6)"
   ]
  },
  {
   "cell_type": "code",
   "execution_count": null,
   "metadata": {},
   "outputs": [],
   "source": []
  }
 ],
 "metadata": {
  "kernelspec": {
   "display_name": "Python 3",
   "language": "python",
   "name": "python3"
  },
  "language_info": {
   "codemirror_mode": {
    "name": "ipython",
    "version": 3
   },
   "file_extension": ".py",
   "mimetype": "text/x-python",
   "name": "python",
   "nbconvert_exporter": "python",
   "pygments_lexer": "ipython3",
   "version": "3.8.3"
  }
 },
 "nbformat": 4,
 "nbformat_minor": 4
}
