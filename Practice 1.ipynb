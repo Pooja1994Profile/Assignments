{
 "cells": [
  {
   "cell_type": "code",
   "execution_count": 16,
   "metadata": {},
   "outputs": [
    {
     "name": "stdout",
     "output_type": "stream",
     "text": [
      "Sum of all items 9\n",
      "Sum: 9\n"
     ]
    }
   ],
   "source": [
    "#Write a Python program to sum all the items in a list.\n",
    "L1=[1,2,3,4,5,-6]\n",
    "print(\"Sum of all items\",sum(L1))\n",
    "def Sum_List(n):\n",
    "    add=0\n",
    "    for i in n:\n",
    "        add+=i\n",
    "    return add\n",
    "print(\"Sum:\",Sum_List(L1))"
   ]
  },
  {
   "cell_type": "code",
   "execution_count": 25,
   "metadata": {},
   "outputs": [
    {
     "name": "stdout",
     "output_type": "stream",
     "text": [
      "Matched words f&l char: 3\n"
     ]
    }
   ],
   "source": [
    "\"\"\" Write a Python program to count the number of strings where the string length is 2 or more and the first and last character \n",
    "are same from a given list of strings.\"\"\"\n",
    "l1=[\"maam\",\"crop\",\"saas\",\"pass\",\"wow\"]\n",
    "def First_Last_comp(l1):\n",
    "    counter=0\n",
    "    for i in l1:\n",
    "        if i[0]==i[-1]:\n",
    "            counter+=1\n",
    "    return counter\n",
    "print(\"Matched words f&l char:\",First_Last_comp(l1))"
   ]
  },
  {
   "cell_type": "code",
   "execution_count": 39,
   "metadata": {},
   "outputs": [
    {
     "data": {
      "text/plain": [
       "['a', 'b', 'c', 'd']"
      ]
     },
     "execution_count": 39,
     "metadata": {},
     "output_type": "execute_result"
    }
   ],
   "source": [
    "#Write a Python program to remove duplicates from a list.\n",
    "l1=[\"a\",\"b\",\"a\",\"c\",\"c\",\"d\"]\n",
    "def Remove_Duplicate(l1):\n",
    "    unique_list=[]\n",
    "    for i in l1:\n",
    "        if not i in unique_list:\n",
    "            unique_list.append(i)\n",
    "    return unique_list\n",
    "Remove_Duplicate(l1)  "
   ]
  },
  {
   "cell_type": "code",
   "execution_count": null,
   "metadata": {},
   "outputs": [],
   "source": []
  }
 ],
 "metadata": {
  "kernelspec": {
   "display_name": "Python 3",
   "language": "python",
   "name": "python3"
  },
  "language_info": {
   "codemirror_mode": {
    "name": "ipython",
    "version": 3
   },
   "file_extension": ".py",
   "mimetype": "text/x-python",
   "name": "python",
   "nbconvert_exporter": "python",
   "pygments_lexer": "ipython3",
   "version": "3.8.3"
  }
 },
 "nbformat": 4,
 "nbformat_minor": 4
}
