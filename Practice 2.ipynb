{
 "cells": [
  {
   "cell_type": "code",
   "execution_count": 1,
   "metadata": {},
   "outputs": [
    {
     "name": "stdout",
     "output_type": "stream",
     "text": [
      "True False False\n"
     ]
    }
   ],
   "source": [
    "#Write a Python program to check if all dictionaries in a list are empty or not.\n",
    "D1=[{},{}]\n",
    "D2=[{\"abc\"},{},{\"xyz\"},{\"pqr\"}]\n",
    "D3=[{},{123},{}]\n",
    "def Dict_Empty(L1):\n",
    "    return all([not bool(i) for i in L1])\n",
    "print(Dict_Empty(D1), Dict_Empty(D2), Dict_Empty(D3))"
   ]
  },
  {
   "cell_type": "code",
   "execution_count": 2,
   "metadata": {},
   "outputs": [
    {
     "data": {
      "text/plain": [
       "['a', 'b', ['1', 'c', 'd']]"
      ]
     },
     "execution_count": 2,
     "metadata": {},
     "output_type": "execute_result"
    }
   ],
   "source": [
    "#Write a Python program to remove duplicates from a list of lists.\n",
    "l1=[\"a\",\"b\",\"a\",[\"1\",\"c\",\"b\",\"b\",\"d\"]]\n",
    "def Rem_Dup(Lst):\n",
    "    New_lst=[]\n",
    "    sub_lst=[]\n",
    "    for i in Lst:\n",
    "        if not i in New_lst and type(i) is not list:\n",
    "            New_lst.append(i)\n",
    "        else:           \n",
    "            for j in i:\n",
    "                if not j in sub_lst and not j in New_lst:\n",
    "                    sub_lst.append(j)\n",
    "    New_lst.append(sub_lst)        \n",
    "    return New_lst   \n",
    "\n",
    "Rem_Dup(l1)"
   ]
  },
  {
   "cell_type": "code",
   "execution_count": 3,
   "metadata": {},
   "outputs": [
    {
     "data": {
      "text/plain": [
       "[[110, 120], [133], [240], [310, 220], [330, 456, 425]]"
      ]
     },
     "execution_count": 3,
     "metadata": {},
     "output_type": "execute_result"
    }
   ],
   "source": [
    "import itertools\n",
    "l2=[[110, 120], [240], [330, 456, 425], [310, 220], [133], [240]]\n",
    "l2.sort()\n",
    "new_List=list(num for num,_ in itertools.groupby(l2))\n",
    "new_List"
   ]
  },
  {
   "cell_type": "code",
   "execution_count": 4,
   "metadata": {},
   "outputs": [
    {
     "name": "stdout",
     "output_type": "stream",
     "text": [
      "[1, 2, 3, 4, 5, 6, 7, 8]\n",
      "[1, 2, 3, 4, 5, 6, 7, 8]\n"
     ]
    }
   ],
   "source": [
    "#Write a Python program to extend a list without append.\n",
    "l1=[1,2,3,4]\n",
    "l2=[5,6,7,8]\n",
    "print(l1+l2)\n",
    "l2[:0]=l1\n",
    "print(l2)"
   ]
  },
  {
   "cell_type": "code",
   "execution_count": 5,
   "metadata": {},
   "outputs": [
    {
     "name": "stdout",
     "output_type": "stream",
     "text": [
      "[9, 3, 7, 2, 3, 2, 5, 6]\n",
      "[9, 3, 7, 2, 3, 2, 5, 6]\n"
     ]
    }
   ],
   "source": [
    "#Write a Python program to find the list in a list of lists whose sum of elements is the highest\n",
    "#Method 1\n",
    "LOL=[[1,2,5,3],[7,8,4,2],[9,3,7,2,3,2,5,6],[3,4,7,8,3,2]]\n",
    "sum_lst=[sum(i) for i in LOL]\n",
    "print(LOL[sum_lst.index(max(sum_lst))])\n",
    "#Method 2\n",
    "print(max(LOL, key=sum))"
   ]
  },
  {
   "cell_type": "code",
   "execution_count": 6,
   "metadata": {},
   "outputs": [
    {
     "data": {
      "text/plain": [
       "'c'"
      ]
     },
     "execution_count": 6,
     "metadata": {},
     "output_type": "execute_result"
    }
   ],
   "source": [
    "#Write a Python program to access dictionary key’s element by index.\n",
    "dct1={\"a\":1,\"b\":2,\"c\":3,\"d\":4}\n",
    "list(dct1)[2]"
   ]
  },
  {
   "cell_type": "code",
   "execution_count": 7,
   "metadata": {},
   "outputs": [
    {
     "name": "stdout",
     "output_type": "stream",
     "text": [
      "(1, 'apple')\n",
      "(2, 'banana')\n",
      "(3, 'cat')\n"
     ]
    }
   ],
   "source": [
    "#Write a Python program to iterate over two lists simultaneously.\n",
    "f=[1,2,3]\n",
    "s=[\"apple\",\"banana\",\"cat\"]\n",
    "for i in zip(f,s):\n",
    "    print(i)"
   ]
  },
  {
   "cell_type": "code",
   "execution_count": 12,
   "metadata": {},
   "outputs": [
    {
     "data": {
      "text/plain": [
       "['super1', 'super2', 'super3', 'super4', 'super5']"
      ]
     },
     "execution_count": 12,
     "metadata": {},
     "output_type": "execute_result"
    }
   ],
   "source": [
    "#write a program to insert a string at the begining of every elements in a list\n",
    "f=[1,2,3,4,5]\n",
    "[f\"super{i}\" for i in f]   "
   ]
  },
  {
   "cell_type": "code",
   "execution_count": 13,
   "metadata": {},
   "outputs": [
    {
     "name": "stdout",
     "output_type": "stream",
     "text": [
      "The 2 common member\n"
     ]
    }
   ],
   "source": [
    "# write a program to take two lists and print if they have at least one common member\n",
    "p=[1,3,4,6]\n",
    "q=[2,7,4,8,3]\n",
    "counter=0\n",
    "for i in p:\n",
    "    if i in q:\n",
    "        counter+=1\n",
    "print(f\"The {counter} common member\")"
   ]
  },
  {
   "cell_type": "code",
   "execution_count": 10,
   "metadata": {},
   "outputs": [
    {
     "name": "stdout",
     "output_type": "stream",
     "text": [
      "[(8, 6, 4), (8, 4, 6), (6, 8, 4), (6, 4, 8), (4, 8, 6), (4, 6, 8)]\n"
     ]
    }
   ],
   "source": [
    "# compute all permutations in a list\n",
    "import itertools\n",
    "print(list(itertools.permutations([8,6,4])))"
   ]
  }
 ],
 "metadata": {
  "kernelspec": {
   "display_name": "Python 3",
   "language": "python",
   "name": "python3"
  },
  "language_info": {
   "codemirror_mode": {
    "name": "ipython",
    "version": 3
   },
   "file_extension": ".py",
   "mimetype": "text/x-python",
   "name": "python",
   "nbconvert_exporter": "python",
   "pygments_lexer": "ipython3",
   "version": "3.8.3"
  }
 },
 "nbformat": 4,
 "nbformat_minor": 4
}
