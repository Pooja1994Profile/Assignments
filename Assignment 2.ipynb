{
 "cells": [
  {
   "cell_type": "code",
   "execution_count": 73,
   "metadata": {},
   "outputs": [
    {
     "name": "stdout",
     "output_type": "stream",
     "text": [
      "Enter the number: 9\n",
      "\n",
      "\n",
      "* \n",
      "\n",
      "* * \n",
      "\n",
      "* * * \n",
      "\n",
      "* * * * \n",
      "\n",
      "* * * \n",
      "\n",
      "* * \n",
      "\n",
      "* \n",
      "\n"
     ]
    }
   ],
   "source": [
    "\"\"\"1. Create the below pattern using nested for loop in Python.\n",
    "*\n",
    "* *\n",
    "* * *\n",
    "* * * *\n",
    "* * * * *\n",
    "* * * *\n",
    "* * *\n",
    "* *\n",
    "*\n",
    "\"\"\"\n",
    "n=int(input(\"Enter the number: \"))\n",
    "for i in range(0,int(n/2)):\n",
    "    for j in range(i):\n",
    "        print(\"*\",end=\" \") \n",
    "    print(\"\\n\")\n",
    "for i in range(int(n/2),0,-1):\n",
    "    for j in range(i):\n",
    "        print(\"*\",end=\" \")\n",
    "    print(\"\\n\")\n",
    "        "
   ]
  },
  {
   "cell_type": "code",
   "execution_count": 80,
   "metadata": {},
   "outputs": [
    {
     "name": "stdout",
     "output_type": "stream",
     "text": [
      "Enter word to reverse: ineuron\n",
      "Reverse order is norueni\n"
     ]
    }
   ],
   "source": [
    "\"\"\" 2. Write a Python program to reverse a word after accepting the input from the user.\n",
    "Sample Output:\n",
    "Input word: ineuron\n",
    "Output: norueni\n",
    "\"\"\"\n",
    "word=input(\"Enter word to reverse: \")\n",
    "print(f\"Reverse order is {word[::-1]}\")"
   ]
  },
  {
   "cell_type": "code",
   "execution_count": null,
   "metadata": {},
   "outputs": [],
   "source": []
  }
 ],
 "metadata": {
  "kernelspec": {
   "display_name": "Python 3",
   "language": "python",
   "name": "python3"
  },
  "language_info": {
   "codemirror_mode": {
    "name": "ipython",
    "version": 3
   },
   "file_extension": ".py",
   "mimetype": "text/x-python",
   "name": "python",
   "nbconvert_exporter": "python",
   "pygments_lexer": "ipython3",
   "version": "3.8.3"
  }
 },
 "nbformat": 4,
 "nbformat_minor": 4
}
